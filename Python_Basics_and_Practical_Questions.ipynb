{
  "nbformat": 4,
  "nbformat_minor": 0,
  "metadata": {
    "colab": {
      "provenance": []
    },
    "kernelspec": {
      "name": "python3",
      "display_name": "Python 3"
    },
    "language_info": {
      "name": "python"
    }
  },
  "cells": [
    {
      "cell_type": "markdown",
      "source": [
        "# **Python Basics Questions**"
      ],
      "metadata": {
        "id": "9v94PE9oEsGS"
      }
    },
    {
      "cell_type": "markdown",
      "source": [
        "Q1. What is Python, and why is it popular?\n",
        "\n",
        "Ans: Python is a high-level programming language known for its simplicity and readability. It is popular because of its:\n",
        "a) Easy-to-understand syntax.\n",
        "b) Extensive libraries and frameworks.\n",
        "c) Versatility across various domains (web development, data science, data analytics, etc.).\n",
        "D) Strong community support.\n",
        "\n",
        "\n",
        "\n",
        "Q2. What is an interpreter in Python?\n",
        "\n",
        "Ans: An interpreter is a computer program that translates high-level Python code into machine code that a computer can understand. In other words, an interpreter is a program that executes Python code line by line, converting it into machine-readable format at runtime.\n",
        "\n",
        "\n",
        "\n",
        "Q3. What are pre-defined keywords in Python?\n",
        "\n",
        "Ans: Pre-defined keywords are reserved words in Python that have specific meanings and purposes, such as\n",
        "False               class               from                or\n",
        "None                continue            global              pass\n",
        "True                def                 if                  raise\n",
        "and                 del                 import              return\n",
        "as                  elif                in                  try\n",
        "assert              else                is                  while\n",
        "async               except              lambda              with\n",
        "await               finally             nonlocal            yield\n",
        "break               for                 not                 \n",
        "\n",
        "\n",
        "\n",
        "Q4. Can keywords be used as variable names?\n",
        "\n",
        "Ans: No, keywords cannot be used as variable names because they are reserved for specific meanings and purposes in the Python language.\n",
        "\n",
        "\n",
        "\n",
        "Q5. What is mutability in Python?\n",
        "\n",
        "Ans: Mutability refers to whether an object’s value can be changed after it is created. Eg: list, dictionaries are a type of mutable objects.\n",
        "\n",
        "\n",
        "\n",
        "Q6. Why are lists mutable, but tuples are immutable?\n",
        "\n",
        "Ans: Lists are designed for dynamic operations where elements need to be added, removed, or modified. Like if I have to write code to store any grocery data then I will use List because it stores everything such as [milk 1Lt, potato 2kgs,etc]\n",
        "Tuples, on the other hand, are intended for fixed collections of items, making them immutable to ensure data integrity and faster access. Like, if I have to write a code to store any employee_id, employee_name, then I can use Tuple to store that because of its immutable nature.\n",
        "\n",
        "\n",
        "\n",
        "Q7. What is the difference between “==” and “is” operators in Python?\n",
        "\n",
        "Ans: \"==\" checks for value equality, i.e., whether two objects have the same value.\n",
        "\"is\" checks for reference equality, i.e., whether two objects refer to the same memory location.\n",
        "\n",
        "\n",
        "\n",
        "Q8. What are logical operators in Python?\n",
        "\n",
        "Ans: Logical operators in Python are used to combine conditional statements:\n",
        "      and: Returns True if both conditions are true.\n",
        "      Eg: True and True is True, True and False is False\n",
        "\n",
        "      or: Returns True if at least one condition is true.\n",
        "      Eg: True or True is True, True or False is True\n",
        "\n",
        "      not: Reverses the result of a condition.\n",
        "      Eg: print(not(True)) >> False\n",
        "\n",
        "\n",
        "\n",
        "Q9. What is type casting in Python?\n",
        "\n",
        "Ans: Type casting is converting one data type into another. For example:\n",
        "a = 31   # class <int>\n",
        "b = str(a)   # integer to string conversion.\n",
        "\n",
        "\n",
        "\n",
        "Q10. What is the difference between implicit and explicit type casting?\n",
        "\n",
        "Ans: Implicit type casting: Python automatically converts one data type to another (e.g., int to float during division). eg: 2+3.5 = 5.5\n",
        "\n",
        "Explicit type casting: The programmer manually converts one data type to another using functions like int(), float(), or str(). eg: a = \"2\"\n",
        "                                                          float(a)\n",
        "\n",
        "\n",
        "\n",
        "Q11. What is the purpose of conditional statements in Python?\n",
        "\n",
        "Ans: Conditional statements enable decision-making in a program by executing different blocks of code based on conditions (e.g., if, elif, else).\n",
        "\n",
        "\n",
        "\n",
        "Q12. How does the elif statement work?\n",
        "\n",
        "Ans: elif in python means (else if). An if statement can be chained together with a lot of these elif statements followed by an else statement. The elif statement allows for multiple conditions to be checked sequentially. If the if condition is false, Python checks the elif conditions in order until one evaluates to true.\n",
        "\n",
        "\n",
        "\n",
        "Q13. What is the difference between for and while loops?\n",
        "\n",
        "Ans: For Loop: iterate through a sequence like List, Tuple, Range, or String.\n",
        "     while Loop: keeps executing until the condition is True.\n",
        "\n",
        "\n",
        "\n",
        "Q14. Describe a scenario where a while loop is more suitable than a for loop.\n",
        "\n",
        "Ans:    \n",
        "\n",
        "\n"
      ],
      "metadata": {
        "id": "rro-ewYeL4Rp"
      }
    },
    {
      "cell_type": "code",
      "source": [
        "correct_password = \"mynameis\"\n",
        "\n",
        "user_input = input(\"Enter the password: \")\n",
        "while user_input != correct_password:\n",
        "    print(\"Incorrect password. Try again.\")\n",
        "    user_input = input(\"Enter the password: \")\n",
        "\n",
        "print(\"Access granted!\")"
      ],
      "metadata": {
        "colab": {
          "base_uri": "https://localhost:8080/"
        },
        "id": "1trqYL4BEJmV",
        "outputId": "2dc7894d-fa6f-411b-e417-ddde52918ff9"
      },
      "execution_count": null,
      "outputs": [
        {
          "output_type": "stream",
          "name": "stdout",
          "text": [
            "Enter the password: mynameis\n",
            "Access granted!\n"
          ]
        }
      ]
    },
    {
      "cell_type": "markdown",
      "source": [
        "# **Practical Questions:**"
      ],
      "metadata": {
        "id": "xMizABeCEdyO"
      }
    },
    {
      "cell_type": "markdown",
      "source": [
        "Q1. Write a Python program to print \"Hello, World!\"\n",
        "\n",
        "Ans:"
      ],
      "metadata": {
        "id": "LM25juUnqMqi"
      }
    },
    {
      "cell_type": "code",
      "source": [
        "print(\"Hello, World!\")\n"
      ],
      "metadata": {
        "colab": {
          "base_uri": "https://localhost:8080/"
        },
        "id": "sgrbrrQiqOJn",
        "outputId": "d054928f-140b-4995-cdc3-66aeef2252f5"
      },
      "execution_count": null,
      "outputs": [
        {
          "output_type": "stream",
          "name": "stdout",
          "text": [
            "Hello, World!\n"
          ]
        }
      ]
    },
    {
      "cell_type": "markdown",
      "source": [
        "Q2. Write a Python program that displays your name and age.\n",
        "\n",
        "Ans:"
      ],
      "metadata": {
        "id": "0sn2QW54sOgx"
      }
    },
    {
      "cell_type": "code",
      "source": [
        "name = input(\"Enter your name: \")\n",
        "age = int(input(\"Enter your age: \"))\n",
        "print(\"My name is\", name)\n",
        "print(\"My age is\", age)\n"
      ],
      "metadata": {
        "colab": {
          "base_uri": "https://localhost:8080/"
        },
        "id": "jZ3PDVYPsV04",
        "outputId": "a27c889d-ef8f-4c63-e464-470c8d900382"
      },
      "execution_count": null,
      "outputs": [
        {
          "output_type": "stream",
          "name": "stdout",
          "text": [
            "Enter your name: Sayantan Saha\n",
            "Enter your age: 22\n",
            "My name is Sayantan Saha\n",
            "My age is 22\n"
          ]
        }
      ]
    },
    {
      "cell_type": "markdown",
      "source": [
        "Q3. Write code to print all the pre-defined keywords in Python using the keyword library.\n",
        "\n",
        "Ans:"
      ],
      "metadata": {
        "id": "G4HExAwI2cgG"
      }
    },
    {
      "cell_type": "code",
      "source": [
        "import keyword\n",
        "print(\"Python keywords are as follows:- \")\n",
        "print(keyword.kwlist)"
      ],
      "metadata": {
        "colab": {
          "base_uri": "https://localhost:8080/"
        },
        "id": "ABPSn4ue6GIH",
        "outputId": "7716d603-bb72-432e-9af1-987d8cbcbb76"
      },
      "execution_count": null,
      "outputs": [
        {
          "output_type": "stream",
          "name": "stdout",
          "text": [
            "Python keywords are as follows:- \n",
            "['False', 'None', 'True', 'and', 'as', 'assert', 'async', 'await', 'break', 'class', 'continue', 'def', 'del', 'elif', 'else', 'except', 'finally', 'for', 'from', 'global', 'if', 'import', 'in', 'is', 'lambda', 'nonlocal', 'not', 'or', 'pass', 'raise', 'return', 'try', 'while', 'with', 'yield']\n"
          ]
        }
      ]
    },
    {
      "cell_type": "markdown",
      "source": [
        "Q4. Write a program that checks if a given word is a Python keyword.\n",
        "\n",
        "Ans:"
      ],
      "metadata": {
        "id": "_YfPgAneDQRt"
      }
    },
    {
      "cell_type": "code",
      "source": [
        "import keyword\n",
        "given_word = input(\"Enter a word: \")\n",
        "if keyword.iskeyword(given_word):\n",
        "    print(f\"{given_word} is a Python keyword.\")\n",
        "else:\n",
        "    print(f\"{given_word} is not a Python keyword.\")\n"
      ],
      "metadata": {
        "colab": {
          "base_uri": "https://localhost:8080/"
        },
        "id": "wctJIl9QDMVS",
        "outputId": "613120fe-1279-4e56-df98-344b2e5e5b45"
      },
      "execution_count": null,
      "outputs": [
        {
          "output_type": "stream",
          "name": "stdout",
          "text": [
            "Enter a word: not\n",
            "not is a Python keyword.\n"
          ]
        }
      ]
    },
    {
      "cell_type": "markdown",
      "source": [
        "Q5. Create a list and tuple in Python, and demonstrate how attempting to change an element works differently for each.\n",
        "\n",
        "Ans:"
      ],
      "metadata": {
        "id": "ZqhGWK0AIdy7"
      }
    },
    {
      "cell_type": "code",
      "source": [
        "list = [2, 18, 21]\n",
        "print(\"Original list:\", list)\n",
        "\n",
        "# Change an element in the list\n",
        "list[0] = 15\n",
        "print(\"Modified list:\", list)"
      ],
      "metadata": {
        "colab": {
          "base_uri": "https://localhost:8080/"
        },
        "id": "oIfFKHXJH709",
        "outputId": "cb506839-35a9-4ae7-c927-6f9bde098948"
      },
      "execution_count": null,
      "outputs": [
        {
          "output_type": "stream",
          "name": "stdout",
          "text": [
            "Original list: [2, 18, 21]\n",
            "Modified list: [15, 18, 21]\n"
          ]
        }
      ]
    },
    {
      "cell_type": "code",
      "source": [
        "TPL = (2, 18, 21)\n",
        "print(\"Original Tuple:\", TPL)\n",
        "\n",
        "# when tried to change an elements in the tuple, it will show an error\n",
        "TPL(0) = 15\n",
        "print(\"Modified Tuple:\", TPL)"
      ],
      "metadata": {
        "colab": {
          "base_uri": "https://localhost:8080/",
          "height": 106
        },
        "id": "aSyFJR7xXxcd",
        "outputId": "be931369-7502-4e69-ccd0-4b1921a23d00"
      },
      "execution_count": null,
      "outputs": [
        {
          "output_type": "error",
          "ename": "SyntaxError",
          "evalue": "cannot assign to function call here. Maybe you meant '==' instead of '='? (<ipython-input-10-0c7bffdb42fa>, line 5)",
          "traceback": [
            "\u001b[0;36m  File \u001b[0;32m\"<ipython-input-10-0c7bffdb42fa>\"\u001b[0;36m, line \u001b[0;32m5\u001b[0m\n\u001b[0;31m    TPL(0) = 15\u001b[0m\n\u001b[0m    ^\u001b[0m\n\u001b[0;31mSyntaxError\u001b[0m\u001b[0;31m:\u001b[0m cannot assign to function call here. Maybe you meant '==' instead of '='?\n"
          ]
        }
      ]
    },
    {
      "cell_type": "markdown",
      "source": [
        "Q6. Write a function to demonstrate the behavior of mutable and immutable arguments.\n",
        "\n",
        "Ans:"
      ],
      "metadata": {
        "id": "3FVcpGtYZCpI"
      }
    },
    {
      "cell_type": "markdown",
      "source": [
        "Mutable:-"
      ],
      "metadata": {
        "id": "F5JnB-xCZb2j"
      }
    },
    {
      "cell_type": "code",
      "source": [
        "list = [2, 18, 21]\n",
        "print(\"Original list:\", list)\n",
        "\n",
        "# Change an element in the list\n",
        "list[0] = 15\n",
        "print(\"Modified list:\", list)"
      ],
      "metadata": {
        "colab": {
          "base_uri": "https://localhost:8080/"
        },
        "id": "CyBGrupRZKkn",
        "outputId": "59c3d8f6-1984-4743-f445-f6453bf6c313"
      },
      "execution_count": null,
      "outputs": [
        {
          "output_type": "stream",
          "name": "stdout",
          "text": [
            "Original list: [2, 18, 21]\n",
            "Modified list: [15, 18, 21]\n"
          ]
        }
      ]
    },
    {
      "cell_type": "markdown",
      "source": [
        "Immutable:-"
      ],
      "metadata": {
        "id": "i5dhkF4jZoje"
      }
    },
    {
      "cell_type": "code",
      "source": [
        "TPL = (2, 18, 21)\n",
        "print(\"Original Tuple:\", TPL)\n",
        "\n",
        "# when tried to change an elements in the tuple, it will show an error\n",
        "TPL(0) = 15\n",
        "print(\"Modified Tuple:\", TPL)"
      ],
      "metadata": {
        "colab": {
          "base_uri": "https://localhost:8080/",
          "height": 106
        },
        "id": "uwAw8vjYZshY",
        "outputId": "963f41b6-860e-44a1-e892-5ebf4b5b9623"
      },
      "execution_count": null,
      "outputs": [
        {
          "output_type": "error",
          "ename": "SyntaxError",
          "evalue": "cannot assign to function call here. Maybe you meant '==' instead of '='? (<ipython-input-12-0c7bffdb42fa>, line 5)",
          "traceback": [
            "\u001b[0;36m  File \u001b[0;32m\"<ipython-input-12-0c7bffdb42fa>\"\u001b[0;36m, line \u001b[0;32m5\u001b[0m\n\u001b[0;31m    TPL(0) = 15\u001b[0m\n\u001b[0m    ^\u001b[0m\n\u001b[0;31mSyntaxError\u001b[0m\u001b[0;31m:\u001b[0m cannot assign to function call here. Maybe you meant '==' instead of '='?\n"
          ]
        }
      ]
    },
    {
      "cell_type": "markdown",
      "source": [
        "Q7. Write a function to demonstrate the behavior of mutable and immutable arguments.\n",
        "\n",
        "Ans: Same as Q6."
      ],
      "metadata": {
        "id": "3mdpr2b3Zw5r"
      }
    },
    {
      "cell_type": "markdown",
      "source": [
        "Q8. Write a program to demonstrate the use of logical operators.\n",
        "\n",
        "Ans:"
      ],
      "metadata": {
        "id": "vC2DN14zaBRB"
      }
    },
    {
      "cell_type": "code",
      "source": [
        "x = 10\n",
        "y = 20\n",
        "print(\"x > 5 and y > 15:\", x > 5 and y > 15)\n",
        "print(\"x > 15 or y > 15:\", x > 15 or y > 15)\n",
        "print(\"not (x > 5):\", not (x > 5))\n"
      ],
      "metadata": {
        "colab": {
          "base_uri": "https://localhost:8080/"
        },
        "id": "rK5j92VCaOXf",
        "outputId": "79422581-33cc-4398-b32f-e9448471d312"
      },
      "execution_count": null,
      "outputs": [
        {
          "output_type": "stream",
          "name": "stdout",
          "text": [
            "x > 5 and y > 15: True\n",
            "x > 15 or y > 15: True\n",
            "not (x > 5): False\n"
          ]
        }
      ]
    },
    {
      "cell_type": "markdown",
      "source": [
        "Q9. Write a Python program to convert user input from string to integer, float, and boolean types.\n",
        "\n",
        "Ans:\n"
      ],
      "metadata": {
        "id": "daQ2vRubrNsV"
      }
    },
    {
      "cell_type": "code",
      "source": [
        "user_input = input(\"Enter a number: \")\n",
        "int_value = int(user_input)\n",
        "float_value = float(user_input)\n",
        "bool_value = bool(user_input)\n",
        "print(\"Integer: \", int_value)\n",
        "print(\"Float: \", float_value)\n",
        "print(\"Boolean: \", bool_value)\n"
      ],
      "metadata": {
        "colab": {
          "base_uri": "https://localhost:8080/"
        },
        "id": "9_RLiQRJrhDT",
        "outputId": "8b3ef42a-23a3-4ed3-cb4f-394782b2de41"
      },
      "execution_count": null,
      "outputs": [
        {
          "output_type": "stream",
          "name": "stdout",
          "text": [
            "Enter a number: 5\n",
            "Integer:  5\n",
            "Float:  5.0\n",
            "Boolean:  True\n"
          ]
        }
      ]
    },
    {
      "cell_type": "markdown",
      "source": [
        "Q10. Write code to demonstrate type casting with list elements.\n",
        "\n",
        "Ans:"
      ],
      "metadata": {
        "id": "ZKbIuykZtX1t"
      }
    },
    {
      "cell_type": "code",
      "source": [
        "str_number = input(\"Enter any number: \")\n",
        "\n",
        "int_number = [int(num) for num in str_number]\n",
        "float_numbar = [float(num) for num in str_number]\n",
        "\n",
        "print(\"After converting to Integer:\" , int_number)\n",
        "print(\"After converting to Float:\" , float_numbar)"
      ],
      "metadata": {
        "id": "SZovq6isxbb-",
        "colab": {
          "base_uri": "https://localhost:8080/"
        },
        "outputId": "0ec4d48f-4b4c-4229-aa2b-bbde106fee57"
      },
      "execution_count": null,
      "outputs": [
        {
          "output_type": "stream",
          "name": "stdout",
          "text": [
            "Enter any number: 123456789\n",
            "After converting to Integer: [1, 2, 3, 4, 5, 6, 7, 8, 9]\n",
            "After converting to Float: [1.0, 2.0, 3.0, 4.0, 5.0, 6.0, 7.0, 8.0, 9.0]\n"
          ]
        }
      ]
    },
    {
      "cell_type": "markdown",
      "source": [
        "Q11. Write a program that checks if a number is positive, negative, or zero.\n",
        "\n",
        "Ans:"
      ],
      "metadata": {
        "id": "mPngROeYooK3"
      }
    },
    {
      "cell_type": "code",
      "source": [
        "number = int(input(\" Enter a number: \"))\n",
        "\n",
        "if number > 0:\n",
        "  print(\"Number is POSITIVE\")\n",
        "\n",
        "elif number < 0:\n",
        "  print(\"Number is NEGATIVE\")\n",
        "\n",
        "else:\n",
        "  print(\"Nimber is ZERO\")"
      ],
      "metadata": {
        "colab": {
          "base_uri": "https://localhost:8080/"
        },
        "id": "G4KGZ282owm9",
        "outputId": "ae51776a-775d-4d3c-fd74-3ae0b50d876a"
      },
      "execution_count": null,
      "outputs": [
        {
          "output_type": "stream",
          "name": "stdout",
          "text": [
            " Enter a number: 1\n",
            "Number is POSITIVE\n"
          ]
        }
      ]
    },
    {
      "cell_type": "markdown",
      "source": [
        "Q12. Write a for loop to print numbers from 1 to 10.\n",
        "\n",
        "Ans:"
      ],
      "metadata": {
        "id": "GpgiTCHGp8Hr"
      }
    },
    {
      "cell_type": "code",
      "source": [
        "for i in range(1 , 10+1):\n",
        "  print(i, end= \"   \")"
      ],
      "metadata": {
        "colab": {
          "base_uri": "https://localhost:8080/"
        },
        "id": "rn7ZTjgiqDDV",
        "outputId": "23891518-54c7-40f2-f4e0-5bc54e191f19"
      },
      "execution_count": 40,
      "outputs": [
        {
          "output_type": "stream",
          "name": "stdout",
          "text": [
            "1   2   3   4   5   6   7   8   9   10   "
          ]
        }
      ]
    },
    {
      "cell_type": "markdown",
      "source": [
        "Q13. Write a Python program to find the sum of all even numbers between 1 and 50.\n",
        "\n",
        "Ans:\n"
      ],
      "metadata": {
        "id": "B0QZeq6SqdMK"
      }
    },
    {
      "cell_type": "code",
      "source": [
        "sum_of_even_number = 0\n",
        "\n",
        "for i in range(1 , 51):\n",
        "  if i % 2 == 0:\n",
        "   sum_of_even_number +=i\n",
        "\n",
        "print(\"The sum of all even numbers between 1 & 50 is:\",sum_of_even_number)"
      ],
      "metadata": {
        "colab": {
          "base_uri": "https://localhost:8080/"
        },
        "id": "BRrY8aRdqkAR",
        "outputId": "ac5bcc0f-6b54-48bb-e2fc-a20d53b1da73"
      },
      "execution_count": null,
      "outputs": [
        {
          "output_type": "stream",
          "name": "stdout",
          "text": [
            "The sum of all even numbers between 1 & 50 is: 650\n"
          ]
        }
      ]
    },
    {
      "cell_type": "markdown",
      "source": [
        "Q14. Write a program to reverse a string using a while loop.\n",
        "\n",
        "Ans:"
      ],
      "metadata": {
        "id": "nOZ72GjZy91u"
      }
    },
    {
      "cell_type": "code",
      "source": [
        "string_value = input(\"Enter a string: \")\n",
        "reversed_value = \"\"\n",
        "i = len(string_value) - 1\n",
        "while i >= 0:\n",
        "  reversed_value = reversed_value+ string_value[i]\n",
        "  i -= 1\n",
        "print(\"The reversed string is:\", reversed_value)\n",
        "\n",
        "\n",
        "\n",
        "\n"
      ],
      "metadata": {
        "colab": {
          "base_uri": "https://localhost:8080/"
        },
        "id": "2lJKGZn5qFVd",
        "outputId": "65ef73c2-75bf-4295-c465-9d8b725f9571"
      },
      "execution_count": 32,
      "outputs": [
        {
          "output_type": "stream",
          "name": "stdout",
          "text": [
            "Enter a string: hello\n",
            "The reversed string is: olleh\n"
          ]
        }
      ]
    },
    {
      "cell_type": "markdown",
      "source": [
        "Q15. Write a Python program to calculate the factorial of a number provided by the user using a while loop."
      ],
      "metadata": {
        "id": "mL_fGFX2z3-T"
      }
    },
    {
      "cell_type": "code",
      "source": [
        "number = int(input(\"Enter your number: \"))\n",
        "factorial = 1\n",
        "a = 1\n",
        "while a <= number:\n",
        "  factorial = factorial * a\n",
        "  a += 1\n",
        "\n",
        "print(\"The factorial of\", number , \"is\", factorial)\n"
      ],
      "metadata": {
        "colab": {
          "base_uri": "https://localhost:8080/"
        },
        "id": "81JdiafQAHpe",
        "outputId": "498bca72-b9ba-4f9c-a03c-e9b9a6a5f40d"
      },
      "execution_count": 36,
      "outputs": [
        {
          "output_type": "stream",
          "name": "stdout",
          "text": [
            "Enter your number: 3\n",
            "The factorial of 3 is 6\n"
          ]
        }
      ]
    }
  ]
}